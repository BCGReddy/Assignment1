{
 "cells": [
  {
   "cell_type": "markdown",
   "id": "ceaf1638",
   "metadata": {},
   "source": [
    "Q.program to find numbers between 2000 to 3200 divisible by 7 &5."
   ]
  },
  {
   "cell_type": "code",
   "execution_count": 9,
   "id": "3d1144b5",
   "metadata": {},
   "outputs": [
    {
     "name": "stdout",
     "output_type": "stream",
     "text": [
      "[2030, 2065, 2100, 2135, 2170, 2205, 2240, 2275, 2310, 2345, 2380, 2415, 2450, 2485, 2520, 2555, 2590, 2625, 2660, 2695, 2730, 2765, 2800, 2835, 2870, 2905, 2940, 2975, 3010, 3045, 3080, 3115, 3150, 3185]\n"
     ]
    }
   ],
   "source": [
    "m=[]\n",
    "for i in range(2000, 3201):\n",
    "    if i%7==0:\n",
    "        if i%5==0:\n",
    "            m.append(i);\n",
    "print(m)"
   ]
  },
  {
   "cell_type": "markdown",
   "id": "e6af768e",
   "metadata": {},
   "source": [
    "Q.program to accept user name and to print the reverse order of the first name and the last name. "
   ]
  },
  {
   "cell_type": "code",
   "execution_count": 28,
   "id": "bfee1647",
   "metadata": {},
   "outputs": [
    {
     "name": "stdout",
     "output_type": "stream",
     "text": [
      "GOPAL\n",
      "REDDY\n",
      "LAPOG YDDER\n"
     ]
    }
   ],
   "source": [
    "firstname=input()\n",
    "lastname= input()\n",
    "m=[]\n",
    "for i in firstname[::-1]:\n",
    "    m.append(i)\n",
    "m.append(' ')\n",
    "for i in lastname[::-1]:\n",
    "    m.append(i)\n",
    "s=''.join(m)\n",
    "\n",
    "print(s)"
   ]
  },
  {
   "cell_type": "markdown",
   "id": "a0e352b8",
   "metadata": {},
   "source": [
    "Q.program to find volume of sphere."
   ]
  },
  {
   "cell_type": "code",
   "execution_count": 26,
   "id": "4f890cca",
   "metadata": {},
   "outputs": [
    {
     "name": "stdout",
     "output_type": "stream",
     "text": [
      "905.1428571428573\n"
     ]
    }
   ],
   "source": [
    "d=12\n",
    "r=d/2\n",
    "v=4/3*22/7*r*r*r\n",
    "print(v)"
   ]
  },
  {
   "cell_type": "code",
   "execution_count": null,
   "id": "a1f00d97",
   "metadata": {},
   "outputs": [],
   "source": []
  }
 ],
 "metadata": {
  "kernelspec": {
   "display_name": "Python 3",
   "language": "python",
   "name": "python3"
  },
  "language_info": {
   "codemirror_mode": {
    "name": "ipython",
    "version": 3
   },
   "file_extension": ".py",
   "mimetype": "text/x-python",
   "name": "python",
   "nbconvert_exporter": "python",
   "pygments_lexer": "ipython3",
   "version": "3.8.8"
  },
  "widgets": {
   "application/vnd.jupyter.widget-state+json": {
    "state": {},
    "version_major": 2,
    "version_minor": 0
   }
  }
 },
 "nbformat": 4,
 "nbformat_minor": 5
}
